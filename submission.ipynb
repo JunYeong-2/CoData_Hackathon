{
 "cells": [
  {
   "cell_type": "code",
   "execution_count": 1329,
   "id": "5f9f11b8",
   "metadata": {},
   "outputs": [],
   "source": [
    "import pandas as pd\n",
    "import numpy as np\n",
    "import matplotlib.pyplot as plt\n",
    "import seaborn as sns\n",
    "sns.set_theme(style='whitegrid', font_scale=1.5)\n",
    "sns.set_palette('Set2', n_colors=10)\n",
    "plt.rc('font', family='malgun gothic')\n",
    "plt.rc('axes', unicode_minus=False)"
   ]
  },
  {
   "cell_type": "code",
   "execution_count": 1330,
   "id": "69585f5d",
   "metadata": {},
   "outputs": [],
   "source": [
    "df = pd.read_excel('data.xlsx')"
   ]
  },
  {
   "cell_type": "code",
   "execution_count": 1331,
   "id": "5432d47f",
   "metadata": {},
   "outputs": [
    {
     "data": {
      "text/html": [
       "<div>\n",
       "<style scoped>\n",
       "    .dataframe tbody tr th:only-of-type {\n",
       "        vertical-align: middle;\n",
       "    }\n",
       "\n",
       "    .dataframe tbody tr th {\n",
       "        vertical-align: top;\n",
       "    }\n",
       "\n",
       "    .dataframe thead th {\n",
       "        text-align: right;\n",
       "    }\n",
       "</style>\n",
       "<table border=\"1\" class=\"dataframe\">\n",
       "  <thead>\n",
       "    <tr style=\"text-align: right;\">\n",
       "      <th></th>\n",
       "      <th>번호</th>\n",
       "      <th>코드</th>\n",
       "      <th>매장명</th>\n",
       "      <th>Unnamed: 3</th>\n",
       "      <th>Location</th>\n",
       "      <th>Unnamed: 5</th>\n",
       "      <th>Use of Store Space</th>\n",
       "      <th>Unnamed: 7</th>\n",
       "      <th>Unnamed: 8</th>\n",
       "      <th>Use of Store Capacity</th>\n",
       "      <th>...</th>\n",
       "      <th>Unnamed: 24</th>\n",
       "      <th>Unnamed: 25</th>\n",
       "      <th>2009</th>\n",
       "      <th>Unnamed: 27</th>\n",
       "      <th>Unnamed: 28</th>\n",
       "      <th>2005</th>\n",
       "      <th>2006</th>\n",
       "      <th>2007</th>\n",
       "      <th>2008</th>\n",
       "      <th>2009</th>\n",
       "    </tr>\n",
       "  </thead>\n",
       "  <tbody>\n",
       "    <tr>\n",
       "      <th>0</th>\n",
       "      <td>NaN</td>\n",
       "      <td>NaN</td>\n",
       "      <td>국문</td>\n",
       "      <td>영문</td>\n",
       "      <td>Region</td>\n",
       "      <td>City</td>\n",
       "      <td>Type</td>\n",
       "      <td>Floor</td>\n",
       "      <td>Size (㎡)</td>\n",
       "      <td>No. Table</td>\n",
       "      <td>...</td>\n",
       "      <td>Guest</td>\n",
       "      <td>PPA</td>\n",
       "      <td>Total Sales</td>\n",
       "      <td>Guest</td>\n",
       "      <td>PPA</td>\n",
       "      <td>EBITDA</td>\n",
       "      <td>EBITDA</td>\n",
       "      <td>EBITDA</td>\n",
       "      <td>EBITDA</td>\n",
       "      <td>EBITDA</td>\n",
       "    </tr>\n",
       "    <tr>\n",
       "      <th>1</th>\n",
       "      <td>1.0</td>\n",
       "      <td>KO01</td>\n",
       "      <td>공항점</td>\n",
       "      <td>Airport</td>\n",
       "      <td>Seoul</td>\n",
       "      <td>Seoul</td>\n",
       "      <td>F.S</td>\n",
       "      <td>F2 + F3</td>\n",
       "      <td>950.4</td>\n",
       "      <td>58</td>\n",
       "      <td>...</td>\n",
       "      <td>205344</td>\n",
       "      <td>16582.053617</td>\n",
       "      <td>3660158827</td>\n",
       "      <td>206825</td>\n",
       "      <td>17696.887838</td>\n",
       "      <td>1016880802.00966</td>\n",
       "      <td>880804927.054007</td>\n",
       "      <td>703117126</td>\n",
       "      <td>706343937</td>\n",
       "      <td>740945950</td>\n",
       "    </tr>\n",
       "    <tr>\n",
       "      <th>2</th>\n",
       "      <td>2.0</td>\n",
       "      <td>KO02</td>\n",
       "      <td>강남점</td>\n",
       "      <td>Kangnam</td>\n",
       "      <td>Seoul</td>\n",
       "      <td>Seoul</td>\n",
       "      <td>F.S</td>\n",
       "      <td>F2 + F3</td>\n",
       "      <td>749.1</td>\n",
       "      <td>50</td>\n",
       "      <td>...</td>\n",
       "      <td>151311</td>\n",
       "      <td>17643.321523</td>\n",
       "      <td>2813496353</td>\n",
       "      <td>148944</td>\n",
       "      <td>18889.625316</td>\n",
       "      <td>672327633.704433</td>\n",
       "      <td>602990750.971832</td>\n",
       "      <td>523887352</td>\n",
       "      <td>536009123</td>\n",
       "      <td>548717030</td>\n",
       "    </tr>\n",
       "    <tr>\n",
       "      <th>3</th>\n",
       "      <td>3.0</td>\n",
       "      <td>KO03</td>\n",
       "      <td>홍대점</td>\n",
       "      <td>Hongdae</td>\n",
       "      <td>Seoul</td>\n",
       "      <td>Seoul</td>\n",
       "      <td>I.L</td>\n",
       "      <td>F1</td>\n",
       "      <td>519</td>\n",
       "      <td>56</td>\n",
       "      <td>...</td>\n",
       "      <td>184152</td>\n",
       "      <td>16447.355093</td>\n",
       "      <td>2214037332</td>\n",
       "      <td>127192</td>\n",
       "      <td>17407.048651</td>\n",
       "      <td>871453843.039647</td>\n",
       "      <td>669037511.946845</td>\n",
       "      <td>602495775</td>\n",
       "      <td>553183789</td>\n",
       "      <td>386276076</td>\n",
       "    </tr>\n",
       "    <tr>\n",
       "      <th>4</th>\n",
       "      <td>4.0</td>\n",
       "      <td>KO04</td>\n",
       "      <td>청담점</td>\n",
       "      <td>Chongdam</td>\n",
       "      <td>Seoul</td>\n",
       "      <td>Seoul</td>\n",
       "      <td>I.L</td>\n",
       "      <td>B1 + F1</td>\n",
       "      <td>505.23</td>\n",
       "      <td>49</td>\n",
       "      <td>...</td>\n",
       "      <td>144342</td>\n",
       "      <td>17314.049833</td>\n",
       "      <td>2416215554</td>\n",
       "      <td>127987</td>\n",
       "      <td>18878.601374</td>\n",
       "      <td>678943589.950828</td>\n",
       "      <td>586514290.518237</td>\n",
       "      <td>283125442</td>\n",
       "      <td>213743933</td>\n",
       "      <td>262690152</td>\n",
       "    </tr>\n",
       "  </tbody>\n",
       "</table>\n",
       "<p>5 rows × 34 columns</p>\n",
       "</div>"
      ],
      "text/plain": [
       "    번호    코드  매장명 Unnamed: 3 Location Unnamed: 5 Use of Store Space  \\\n",
       "0  NaN   NaN   국문         영문   Region       City               Type   \n",
       "1  1.0  KO01  공항점    Airport    Seoul      Seoul                F.S   \n",
       "2  2.0  KO02  강남점    Kangnam    Seoul      Seoul                F.S   \n",
       "3  3.0  KO03  홍대점    Hongdae    Seoul      Seoul                I.L   \n",
       "4  4.0  KO04  청담점   Chongdam    Seoul      Seoul                I.L   \n",
       "\n",
       "  Unnamed: 7 Unnamed: 8 Use of Store Capacity  ... Unnamed: 24   Unnamed: 25  \\\n",
       "0      Floor   Size (㎡)             No. Table  ...       Guest           PPA   \n",
       "1    F2 + F3      950.4                    58  ...      205344  16582.053617   \n",
       "2    F2 + F3      749.1                    50  ...      151311  17643.321523   \n",
       "3         F1        519                    56  ...      184152  16447.355093   \n",
       "4    B1 + F1     505.23                    49  ...      144342  17314.049833   \n",
       "\n",
       "           2009 Unnamed: 27   Unnamed: 28              2005              2006  \\\n",
       "0   Total Sales       Guest           PPA            EBITDA            EBITDA   \n",
       "1    3660158827      206825  17696.887838  1016880802.00966  880804927.054007   \n",
       "2    2813496353      148944  18889.625316  672327633.704433  602990750.971832   \n",
       "3    2214037332      127192  17407.048651  871453843.039647  669037511.946845   \n",
       "4    2416215554      127987  18878.601374  678943589.950828  586514290.518237   \n",
       "\n",
       "        2007       2008       2009  \n",
       "0     EBITDA     EBITDA     EBITDA  \n",
       "1  703117126  706343937  740945950  \n",
       "2  523887352  536009123  548717030  \n",
       "3  602495775  553183789  386276076  \n",
       "4  283125442  213743933  262690152  \n",
       "\n",
       "[5 rows x 34 columns]"
      ]
     },
     "execution_count": 1331,
     "metadata": {},
     "output_type": "execute_result"
    }
   ],
   "source": [
    "df.head()"
   ]
  },
  {
   "cell_type": "code",
   "execution_count": 1332,
   "id": "6b6ed73d",
   "metadata": {
    "scrolled": false
   },
   "outputs": [
    {
     "name": "stdout",
     "output_type": "stream",
     "text": [
      "<class 'pandas.core.frame.DataFrame'>\n",
      "RangeIndex: 105 entries, 0 to 104\n",
      "Data columns (total 34 columns):\n",
      " #   Column                 Non-Null Count  Dtype  \n",
      "---  ------                 --------------  -----  \n",
      " 0   번호                     104 non-null    float64\n",
      " 1   코드                     104 non-null    object \n",
      " 2   매장명                    105 non-null    object \n",
      " 3   Unnamed: 3             105 non-null    object \n",
      " 4   Location               105 non-null    object \n",
      " 5   Unnamed: 5             105 non-null    object \n",
      " 6   Use of Store Space     105 non-null    object \n",
      " 7   Unnamed: 7             105 non-null    object \n",
      " 8   Unnamed: 8             105 non-null    object \n",
      " 9   Use of Store Capacity  105 non-null    object \n",
      " 10  Unnamed: 10            105 non-null    object \n",
      " 11  Opening / Expiry Date  105 non-null    object \n",
      " 12  Operating              105 non-null    object \n",
      " 13  Unnamed: 13            105 non-null    object \n",
      " 14  2005                   69 non-null     object \n",
      " 15  Unnamed: 15            69 non-null     object \n",
      " 16  Unnamed: 16            69 non-null     object \n",
      " 17  2006                   87 non-null     object \n",
      " 18  Unnamed: 18            87 non-null     object \n",
      " 19  Unnamed: 19            87 non-null     object \n",
      " 20  2007                   97 non-null     object \n",
      " 21  Unnamed: 21            97 non-null     object \n",
      " 22  Unnamed: 22            97 non-null     object \n",
      " 23  2008                   101 non-null    object \n",
      " 24  Unnamed: 24            101 non-null    object \n",
      " 25  Unnamed: 25            101 non-null    object \n",
      " 26  2009                   105 non-null    object \n",
      " 27  Unnamed: 27            105 non-null    object \n",
      " 28  Unnamed: 28            105 non-null    object \n",
      " 29  2005                   69 non-null     object \n",
      " 30  2006                   87 non-null     object \n",
      " 31  2007                   97 non-null     object \n",
      " 32  2008                   101 non-null    object \n",
      " 33  2009                   105 non-null    object \n",
      "dtypes: float64(1), object(33)\n",
      "memory usage: 28.0+ KB\n"
     ]
    }
   ],
   "source": [
    "df.info()"
   ]
  },
  {
   "cell_type": "code",
   "execution_count": null,
   "id": "87537541",
   "metadata": {},
   "outputs": [],
   "source": []
  },
  {
   "cell_type": "markdown",
   "id": "c3a86ef5",
   "metadata": {},
   "source": [
    "# Cleaning Dataset"
   ]
  },
  {
   "cell_type": "markdown",
   "id": "60bbc705",
   "metadata": {},
   "source": [
    "### Column rename"
   ]
  },
  {
   "cell_type": "code",
   "execution_count": 1333,
   "id": "8a181a7a",
   "metadata": {},
   "outputs": [],
   "source": [
    "new_columns = df.iloc[0].values\n",
    "new_columns[0] = '번호'\n",
    "new_columns[1] = '코드'\n",
    "new_columns = [i.replace(' ', '') for i in list(new_columns)]"
   ]
  },
  {
   "cell_type": "code",
   "execution_count": 1334,
   "id": "d3ab0022",
   "metadata": {},
   "outputs": [
    {
     "name": "stdout",
     "output_type": "stream",
     "text": [
      "['2005_TotalSales', '2005_Guest', '2005_PPA', '2006_TotalSales', '2006_Guest', '2006_PPA', '2007_TotalSales', '2007_Guest', '2007_PPA', '2008_TotalSales', '2008_Guest', '2008_PPA', '2009_TotalSales', '2009_Guest', '2009_PPA']\n"
     ]
    }
   ],
   "source": [
    "year_columns_list = []\n",
    "year = 2004\n",
    "count = 0\n",
    "for i in new_columns[14:-5]:\n",
    "    if count % 3 == 0:\n",
    "        year += 1\n",
    "    new_value = str(year) + '_' + i\n",
    "    year_columns_list.append(new_value)\n",
    "    count += 1\n",
    "print(year_columns_list)\n",
    "new_columns[14:-5] = year_columns_list"
   ]
  },
  {
   "cell_type": "code",
   "execution_count": 1335,
   "id": "b9265c17",
   "metadata": {},
   "outputs": [
    {
     "name": "stdout",
     "output_type": "stream",
     "text": [
      "['번호', '코드', '국문', '영문', 'Region', 'City', 'Type', 'Floor', 'Size(㎡)', 'No.Table', 'No.Seat', 'OpeningDate', 'OperatingHours', 'No.Staffs', '2005_TotalSales', '2005_Guest', '2005_PPA', '2006_TotalSales', '2006_Guest', '2006_PPA', '2007_TotalSales', '2007_Guest', '2007_PPA', '2008_TotalSales', '2008_Guest', '2008_PPA', '2009_TotalSales', '2009_Guest', '2009_PPA', 'EBITDA_2005', 'EBITDA_2006', 'EBITDA_2007', 'EBITDA_2008', 'EBITDA_2009'] "
     ]
    }
   ],
   "source": [
    "new_ebitda_list = []\n",
    "for i in zip(new_columns[-5:], [i for i in range(2005,2010)]):\n",
    "    new_value = str(i[0]) + '_' + str(i[1])\n",
    "    new_ebitda_list.append(new_value)\n",
    "\n",
    "new_columns[-5:] = new_ebitda_list\n",
    "print(new_columns, end=' ')"
   ]
  },
  {
   "cell_type": "code",
   "execution_count": 1336,
   "id": "4296630b",
   "metadata": {},
   "outputs": [],
   "source": [
    "df.columns = new_columns\n",
    "df = df.iloc[1:]\n",
    "df.drop(columns='번호', inplace=True)\n",
    "df.reset_index(drop=True, inplace=True)"
   ]
  },
  {
   "cell_type": "markdown",
   "id": "8bd550d9",
   "metadata": {},
   "source": [
    "### astype"
   ]
  },
  {
   "cell_type": "code",
   "execution_count": 1337,
   "id": "205b4b77",
   "metadata": {
    "scrolled": true
   },
   "outputs": [
    {
     "data": {
      "text/plain": [
       "코드                  0\n",
       "국문                  0\n",
       "영문                  0\n",
       "Region              0\n",
       "City                0\n",
       "Type                0\n",
       "Floor               0\n",
       "Size(㎡)             0\n",
       "No.Table            0\n",
       "No.Seat             0\n",
       "OpeningDate         0\n",
       "OperatingHours      0\n",
       "No.Staffs           0\n",
       "2005_TotalSales    36\n",
       "2005_Guest         36\n",
       "2005_PPA           36\n",
       "2006_TotalSales    18\n",
       "2006_Guest         18\n",
       "2006_PPA           18\n",
       "2007_TotalSales     8\n",
       "2007_Guest          8\n",
       "2007_PPA            8\n",
       "2008_TotalSales     4\n",
       "2008_Guest          4\n",
       "2008_PPA            4\n",
       "2009_TotalSales     0\n",
       "2009_Guest          0\n",
       "2009_PPA            0\n",
       "EBITDA_2005        36\n",
       "EBITDA_2006        18\n",
       "EBITDA_2007         8\n",
       "EBITDA_2008         4\n",
       "EBITDA_2009         0\n",
       "dtype: int64"
      ]
     },
     "execution_count": 1337,
     "metadata": {},
     "output_type": "execute_result"
    }
   ],
   "source": [
    "df.isnull().sum()"
   ]
  },
  {
   "cell_type": "code",
   "execution_count": 1338,
   "id": "d0eb7c81",
   "metadata": {},
   "outputs": [],
   "source": [
    "df = df.fillna(0)"
   ]
  },
  {
   "cell_type": "code",
   "execution_count": 1339,
   "id": "33a6ed80",
   "metadata": {},
   "outputs": [],
   "source": [
    "float_list = df.select_dtypes('float').columns\n",
    "# .astype('int')"
   ]
  },
  {
   "cell_type": "code",
   "execution_count": 1340,
   "id": "6e0adf4a",
   "metadata": {},
   "outputs": [
    {
     "name": "stderr",
     "output_type": "stream",
     "text": [
      "C:\\Users\\Lee\\AppData\\Local\\Temp\\ipykernel_148\\761758972.py:1: DeprecationWarning: In a future version, `df.iloc[:, i] = newvals` will attempt to set the values inplace instead of always setting a new array. To retain the old behavior, use either `df[df.columns[i]] = newvals` or, if columns are non-unique, `df.isetitem(i, newvals)`\n",
      "  df.loc[:,float_list] = df.loc[:,float_list].astype('int')\n"
     ]
    }
   ],
   "source": [
    "df.loc[:,float_list] = df.loc[:,float_list].astype('int')"
   ]
  },
  {
   "cell_type": "code",
   "execution_count": null,
   "id": "8729be10",
   "metadata": {},
   "outputs": [],
   "source": []
  },
  {
   "cell_type": "markdown",
   "id": "a871c056",
   "metadata": {},
   "source": [
    "# Concat Data"
   ]
  },
  {
   "cell_type": "code",
   "execution_count": 1341,
   "id": "5df51fbc",
   "metadata": {},
   "outputs": [],
   "source": [
    "xy = pd.read_csv('Location_Coordinates.csv', encoding='cp949')\n",
    "xy.columns = ['영문', 'x', 'y']"
   ]
  },
  {
   "cell_type": "code",
   "execution_count": 1342,
   "id": "5b722b34",
   "metadata": {},
   "outputs": [],
   "source": [
    "concat_data = pd.concat([df, xy.iloc[:,1:]], axis=1)"
   ]
  },
  {
   "cell_type": "code",
   "execution_count": 1343,
   "id": "f8236444",
   "metadata": {},
   "outputs": [
    {
     "data": {
      "text/html": [
       "<div>\n",
       "<style scoped>\n",
       "    .dataframe tbody tr th:only-of-type {\n",
       "        vertical-align: middle;\n",
       "    }\n",
       "\n",
       "    .dataframe tbody tr th {\n",
       "        vertical-align: top;\n",
       "    }\n",
       "\n",
       "    .dataframe thead th {\n",
       "        text-align: right;\n",
       "    }\n",
       "</style>\n",
       "<table border=\"1\" class=\"dataframe\">\n",
       "  <thead>\n",
       "    <tr style=\"text-align: right;\">\n",
       "      <th></th>\n",
       "      <th>코드</th>\n",
       "      <th>국문</th>\n",
       "      <th>영문</th>\n",
       "      <th>Region</th>\n",
       "      <th>City</th>\n",
       "      <th>Type</th>\n",
       "      <th>Floor</th>\n",
       "      <th>Size(㎡)</th>\n",
       "      <th>No.Table</th>\n",
       "      <th>No.Seat</th>\n",
       "      <th>...</th>\n",
       "      <th>2009_TotalSales</th>\n",
       "      <th>2009_Guest</th>\n",
       "      <th>2009_PPA</th>\n",
       "      <th>EBITDA_2005</th>\n",
       "      <th>EBITDA_2006</th>\n",
       "      <th>EBITDA_2007</th>\n",
       "      <th>EBITDA_2008</th>\n",
       "      <th>EBITDA_2009</th>\n",
       "      <th>x</th>\n",
       "      <th>y</th>\n",
       "    </tr>\n",
       "  </thead>\n",
       "  <tbody>\n",
       "    <tr>\n",
       "      <th>0</th>\n",
       "      <td>KO01</td>\n",
       "      <td>공항점</td>\n",
       "      <td>Airport</td>\n",
       "      <td>Seoul</td>\n",
       "      <td>Seoul</td>\n",
       "      <td>F.S</td>\n",
       "      <td>F2 + F3</td>\n",
       "      <td>950</td>\n",
       "      <td>58</td>\n",
       "      <td>267</td>\n",
       "      <td>...</td>\n",
       "      <td>3660158827</td>\n",
       "      <td>206825</td>\n",
       "      <td>17696</td>\n",
       "      <td>1016880802</td>\n",
       "      <td>880804927</td>\n",
       "      <td>703117126</td>\n",
       "      <td>706343937</td>\n",
       "      <td>740945950</td>\n",
       "      <td>126.79940</td>\n",
       "      <td>37.56210</td>\n",
       "    </tr>\n",
       "    <tr>\n",
       "      <th>1</th>\n",
       "      <td>KO02</td>\n",
       "      <td>강남점</td>\n",
       "      <td>Kangnam</td>\n",
       "      <td>Seoul</td>\n",
       "      <td>Seoul</td>\n",
       "      <td>F.S</td>\n",
       "      <td>F2 + F3</td>\n",
       "      <td>749</td>\n",
       "      <td>50</td>\n",
       "      <td>216</td>\n",
       "      <td>...</td>\n",
       "      <td>2813496353</td>\n",
       "      <td>148944</td>\n",
       "      <td>18889</td>\n",
       "      <td>672327633</td>\n",
       "      <td>602990750</td>\n",
       "      <td>523887352</td>\n",
       "      <td>536009123</td>\n",
       "      <td>548717030</td>\n",
       "      <td>127.02854</td>\n",
       "      <td>37.49785</td>\n",
       "    </tr>\n",
       "    <tr>\n",
       "      <th>2</th>\n",
       "      <td>KO03</td>\n",
       "      <td>홍대점</td>\n",
       "      <td>Hongdae</td>\n",
       "      <td>Seoul</td>\n",
       "      <td>Seoul</td>\n",
       "      <td>I.L</td>\n",
       "      <td>F1</td>\n",
       "      <td>519</td>\n",
       "      <td>56</td>\n",
       "      <td>236</td>\n",
       "      <td>...</td>\n",
       "      <td>2214037332</td>\n",
       "      <td>127192</td>\n",
       "      <td>17407</td>\n",
       "      <td>871453843</td>\n",
       "      <td>669037511</td>\n",
       "      <td>602495775</td>\n",
       "      <td>553183789</td>\n",
       "      <td>386276076</td>\n",
       "      <td>126.92251</td>\n",
       "      <td>37.55377</td>\n",
       "    </tr>\n",
       "  </tbody>\n",
       "</table>\n",
       "<p>3 rows × 35 columns</p>\n",
       "</div>"
      ],
      "text/plain": [
       "     코드   국문       영문 Region   City Type    Floor  Size(㎡)  No.Table  No.Seat  \\\n",
       "0  KO01  공항점  Airport  Seoul  Seoul  F.S  F2 + F3      950        58      267   \n",
       "1  KO02  강남점  Kangnam  Seoul  Seoul  F.S  F2 + F3      749        50      216   \n",
       "2  KO03  홍대점  Hongdae  Seoul  Seoul  I.L       F1      519        56      236   \n",
       "\n",
       "   ... 2009_TotalSales 2009_Guest  2009_PPA  EBITDA_2005  EBITDA_2006  \\\n",
       "0  ...      3660158827     206825     17696   1016880802    880804927   \n",
       "1  ...      2813496353     148944     18889    672327633    602990750   \n",
       "2  ...      2214037332     127192     17407    871453843    669037511   \n",
       "\n",
       "   EBITDA_2007  EBITDA_2008  EBITDA_2009          x         y  \n",
       "0    703117126    706343937    740945950  126.79940  37.56210  \n",
       "1    523887352    536009123    548717030  127.02854  37.49785  \n",
       "2    602495775    553183789    386276076  126.92251  37.55377  \n",
       "\n",
       "[3 rows x 35 columns]"
      ]
     },
     "execution_count": 1343,
     "metadata": {},
     "output_type": "execute_result"
    }
   ],
   "source": [
    "concat_data.head(3)"
   ]
  },
  {
   "cell_type": "code",
   "execution_count": null,
   "id": "2055758d",
   "metadata": {},
   "outputs": [],
   "source": []
  },
  {
   "cell_type": "markdown",
   "id": "a3cfdd17",
   "metadata": {},
   "source": [
    "# Data info"
   ]
  },
  {
   "cell_type": "code",
   "execution_count": 1344,
   "id": "59c428f6",
   "metadata": {
    "scrolled": true
   },
   "outputs": [
    {
     "name": "stdout",
     "output_type": "stream",
     "text": [
      "<class 'pandas.core.frame.DataFrame'>\n",
      "RangeIndex: 104 entries, 0 to 103\n",
      "Data columns (total 35 columns):\n",
      " #   Column           Non-Null Count  Dtype         \n",
      "---  ------           --------------  -----         \n",
      " 0   코드               104 non-null    object        \n",
      " 1   국문               104 non-null    object        \n",
      " 2   영문               104 non-null    object        \n",
      " 3   Region           104 non-null    object        \n",
      " 4   City             104 non-null    object        \n",
      " 5   Type             104 non-null    object        \n",
      " 6   Floor            104 non-null    object        \n",
      " 7   Size(㎡)          104 non-null    int32         \n",
      " 8   No.Table         104 non-null    int64         \n",
      " 9   No.Seat          104 non-null    int64         \n",
      " 10  OpeningDate      104 non-null    datetime64[ns]\n",
      " 11  OperatingHours   104 non-null    object        \n",
      " 12  No.Staffs        104 non-null    int64         \n",
      " 13  2005_TotalSales  104 non-null    int64         \n",
      " 14  2005_Guest       104 non-null    int32         \n",
      " 15  2005_PPA         104 non-null    int32         \n",
      " 16  2006_TotalSales  104 non-null    int64         \n",
      " 17  2006_Guest       104 non-null    int64         \n",
      " 18  2006_PPA         104 non-null    int32         \n",
      " 19  2007_TotalSales  104 non-null    int64         \n",
      " 20  2007_Guest       104 non-null    int64         \n",
      " 21  2007_PPA         104 non-null    int32         \n",
      " 22  2008_TotalSales  104 non-null    int64         \n",
      " 23  2008_Guest       104 non-null    int64         \n",
      " 24  2008_PPA         104 non-null    int32         \n",
      " 25  2009_TotalSales  104 non-null    int64         \n",
      " 26  2009_Guest       104 non-null    int64         \n",
      " 27  2009_PPA         104 non-null    int32         \n",
      " 28  EBITDA_2005      104 non-null    int32         \n",
      " 29  EBITDA_2006      104 non-null    int32         \n",
      " 30  EBITDA_2007      104 non-null    int64         \n",
      " 31  EBITDA_2008      104 non-null    int32         \n",
      " 32  EBITDA_2009      104 non-null    int64         \n",
      " 33  x                104 non-null    float64       \n",
      " 34  y                104 non-null    float64       \n",
      "dtypes: datetime64[ns](1), float64(2), int32(10), int64(14), object(8)\n",
      "memory usage: 24.5+ KB\n"
     ]
    }
   ],
   "source": [
    "concat_data.info()"
   ]
  },
  {
   "cell_type": "code",
   "execution_count": 1345,
   "id": "18e032ea",
   "metadata": {},
   "outputs": [
    {
     "data": {
      "text/html": [
       "<div>\n",
       "<style scoped>\n",
       "    .dataframe tbody tr th:only-of-type {\n",
       "        vertical-align: middle;\n",
       "    }\n",
       "\n",
       "    .dataframe tbody tr th {\n",
       "        vertical-align: top;\n",
       "    }\n",
       "\n",
       "    .dataframe thead th {\n",
       "        text-align: right;\n",
       "    }\n",
       "</style>\n",
       "<table border=\"1\" class=\"dataframe\">\n",
       "  <thead>\n",
       "    <tr style=\"text-align: right;\">\n",
       "      <th></th>\n",
       "      <th>Size(㎡)</th>\n",
       "      <th>No.Table</th>\n",
       "      <th>No.Seat</th>\n",
       "      <th>No.Staffs</th>\n",
       "      <th>2005_TotalSales</th>\n",
       "      <th>2005_Guest</th>\n",
       "      <th>2005_PPA</th>\n",
       "      <th>2006_TotalSales</th>\n",
       "      <th>2006_Guest</th>\n",
       "      <th>2006_PPA</th>\n",
       "      <th>...</th>\n",
       "      <th>2009_TotalSales</th>\n",
       "      <th>2009_Guest</th>\n",
       "      <th>2009_PPA</th>\n",
       "      <th>EBITDA_2005</th>\n",
       "      <th>EBITDA_2006</th>\n",
       "      <th>EBITDA_2007</th>\n",
       "      <th>EBITDA_2008</th>\n",
       "      <th>EBITDA_2009</th>\n",
       "      <th>x</th>\n",
       "      <th>y</th>\n",
       "    </tr>\n",
       "  </thead>\n",
       "  <tbody>\n",
       "    <tr>\n",
       "      <th>count</th>\n",
       "      <td>104.000000</td>\n",
       "      <td>104.000000</td>\n",
       "      <td>104.000000</td>\n",
       "      <td>104.000000</td>\n",
       "      <td>1.040000e+02</td>\n",
       "      <td>104.000000</td>\n",
       "      <td>104.000000</td>\n",
       "      <td>1.040000e+02</td>\n",
       "      <td>104.000000</td>\n",
       "      <td>104.000000</td>\n",
       "      <td>...</td>\n",
       "      <td>1.040000e+02</td>\n",
       "      <td>104.000000</td>\n",
       "      <td>104.000000</td>\n",
       "      <td>1.040000e+02</td>\n",
       "      <td>1.040000e+02</td>\n",
       "      <td>1.040000e+02</td>\n",
       "      <td>1.040000e+02</td>\n",
       "      <td>1.040000e+02</td>\n",
       "      <td>104.000000</td>\n",
       "      <td>104.000000</td>\n",
       "    </tr>\n",
       "    <tr>\n",
       "      <th>mean</th>\n",
       "      <td>704.903846</td>\n",
       "      <td>58.836538</td>\n",
       "      <td>231.625000</td>\n",
       "      <td>48.615385</td>\n",
       "      <td>2.007031e+09</td>\n",
       "      <td>133044.509615</td>\n",
       "      <td>9970.105769</td>\n",
       "      <td>2.163222e+09</td>\n",
       "      <td>137181.903846</td>\n",
       "      <td>13088.586538</td>\n",
       "      <td>...</td>\n",
       "      <td>2.444952e+09</td>\n",
       "      <td>136935.817308</td>\n",
       "      <td>17864.403846</td>\n",
       "      <td>4.127306e+08</td>\n",
       "      <td>4.330785e+08</td>\n",
       "      <td>4.368311e+08</td>\n",
       "      <td>4.227222e+08</td>\n",
       "      <td>4.942397e+08</td>\n",
       "      <td>127.383510</td>\n",
       "      <td>36.941392</td>\n",
       "    </tr>\n",
       "    <tr>\n",
       "      <th>std</th>\n",
       "      <td>151.120380</td>\n",
       "      <td>9.434609</td>\n",
       "      <td>34.943279</td>\n",
       "      <td>11.790491</td>\n",
       "      <td>1.700561e+09</td>\n",
       "      <td>113983.584822</td>\n",
       "      <td>7341.940249</td>\n",
       "      <td>1.275126e+09</td>\n",
       "      <td>82332.516729</td>\n",
       "      <td>6101.518333</td>\n",
       "      <td>...</td>\n",
       "      <td>7.893314e+08</td>\n",
       "      <td>44482.386015</td>\n",
       "      <td>826.488554</td>\n",
       "      <td>3.765223e+08</td>\n",
       "      <td>2.892901e+08</td>\n",
       "      <td>2.837841e+08</td>\n",
       "      <td>2.592758e+08</td>\n",
       "      <td>2.701056e+08</td>\n",
       "      <td>0.806715</td>\n",
       "      <td>0.962966</td>\n",
       "    </tr>\n",
       "    <tr>\n",
       "      <th>min</th>\n",
       "      <td>429.000000</td>\n",
       "      <td>38.000000</td>\n",
       "      <td>123.000000</td>\n",
       "      <td>22.000000</td>\n",
       "      <td>0.000000e+00</td>\n",
       "      <td>0.000000</td>\n",
       "      <td>0.000000</td>\n",
       "      <td>0.000000e+00</td>\n",
       "      <td>0.000000</td>\n",
       "      <td>0.000000</td>\n",
       "      <td>...</td>\n",
       "      <td>5.359169e+08</td>\n",
       "      <td>28311.000000</td>\n",
       "      <td>15859.000000</td>\n",
       "      <td>0.000000e+00</td>\n",
       "      <td>-2.310617e+07</td>\n",
       "      <td>-8.292295e+07</td>\n",
       "      <td>-1.199075e+08</td>\n",
       "      <td>-1.574721e+08</td>\n",
       "      <td>126.622690</td>\n",
       "      <td>33.424280</td>\n",
       "    </tr>\n",
       "    <tr>\n",
       "      <th>25%</th>\n",
       "      <td>591.000000</td>\n",
       "      <td>52.000000</td>\n",
       "      <td>212.500000</td>\n",
       "      <td>40.000000</td>\n",
       "      <td>0.000000e+00</td>\n",
       "      <td>0.000000</td>\n",
       "      <td>0.000000</td>\n",
       "      <td>1.626732e+09</td>\n",
       "      <td>101649.500000</td>\n",
       "      <td>14459.500000</td>\n",
       "      <td>...</td>\n",
       "      <td>1.944136e+09</td>\n",
       "      <td>110327.500000</td>\n",
       "      <td>17388.000000</td>\n",
       "      <td>0.000000e+00</td>\n",
       "      <td>2.584828e+08</td>\n",
       "      <td>2.801708e+08</td>\n",
       "      <td>2.883405e+08</td>\n",
       "      <td>3.198242e+08</td>\n",
       "      <td>126.921183</td>\n",
       "      <td>36.354640</td>\n",
       "    </tr>\n",
       "    <tr>\n",
       "      <th>50%</th>\n",
       "      <td>688.500000</td>\n",
       "      <td>58.000000</td>\n",
       "      <td>225.000000</td>\n",
       "      <td>48.000000</td>\n",
       "      <td>2.489187e+09</td>\n",
       "      <td>164437.000000</td>\n",
       "      <td>14778.500000</td>\n",
       "      <td>2.410287e+09</td>\n",
       "      <td>150825.000000</td>\n",
       "      <td>15710.000000</td>\n",
       "      <td>...</td>\n",
       "      <td>2.399559e+09</td>\n",
       "      <td>127589.500000</td>\n",
       "      <td>17858.500000</td>\n",
       "      <td>4.672030e+08</td>\n",
       "      <td>4.741297e+08</td>\n",
       "      <td>4.131860e+08</td>\n",
       "      <td>3.914768e+08</td>\n",
       "      <td>4.407320e+08</td>\n",
       "      <td>127.028230</td>\n",
       "      <td>37.484005</td>\n",
       "    </tr>\n",
       "    <tr>\n",
       "      <th>75%</th>\n",
       "      <td>767.000000</td>\n",
       "      <td>65.000000</td>\n",
       "      <td>249.500000</td>\n",
       "      <td>54.250000</td>\n",
       "      <td>3.390623e+09</td>\n",
       "      <td>224398.250000</td>\n",
       "      <td>15346.000000</td>\n",
       "      <td>2.957711e+09</td>\n",
       "      <td>188589.500000</td>\n",
       "      <td>16272.250000</td>\n",
       "      <td>...</td>\n",
       "      <td>2.940020e+09</td>\n",
       "      <td>161311.750000</td>\n",
       "      <td>18349.000000</td>\n",
       "      <td>7.092982e+08</td>\n",
       "      <td>6.035643e+08</td>\n",
       "      <td>6.284929e+08</td>\n",
       "      <td>5.692930e+08</td>\n",
       "      <td>6.660611e+08</td>\n",
       "      <td>127.230478</td>\n",
       "      <td>37.549520</td>\n",
       "    </tr>\n",
       "    <tr>\n",
       "      <th>max</th>\n",
       "      <td>1396.000000</td>\n",
       "      <td>87.000000</td>\n",
       "      <td>363.000000</td>\n",
       "      <td>98.000000</td>\n",
       "      <td>7.026981e+09</td>\n",
       "      <td>494061.000000</td>\n",
       "      <td>19338.000000</td>\n",
       "      <td>6.643585e+09</td>\n",
       "      <td>458853.000000</td>\n",
       "      <td>21525.000000</td>\n",
       "      <td>...</td>\n",
       "      <td>5.786136e+09</td>\n",
       "      <td>340776.000000</td>\n",
       "      <td>21353.000000</td>\n",
       "      <td>1.902721e+09</td>\n",
       "      <td>1.683910e+09</td>\n",
       "      <td>1.698232e+09</td>\n",
       "      <td>1.576426e+09</td>\n",
       "      <td>1.511726e+09</td>\n",
       "      <td>129.404020</td>\n",
       "      <td>37.889830</td>\n",
       "    </tr>\n",
       "  </tbody>\n",
       "</table>\n",
       "<p>8 rows × 26 columns</p>\n",
       "</div>"
      ],
      "text/plain": [
       "           Size(㎡)    No.Table     No.Seat   No.Staffs  2005_TotalSales  \\\n",
       "count   104.000000  104.000000  104.000000  104.000000     1.040000e+02   \n",
       "mean    704.903846   58.836538  231.625000   48.615385     2.007031e+09   \n",
       "std     151.120380    9.434609   34.943279   11.790491     1.700561e+09   \n",
       "min     429.000000   38.000000  123.000000   22.000000     0.000000e+00   \n",
       "25%     591.000000   52.000000  212.500000   40.000000     0.000000e+00   \n",
       "50%     688.500000   58.000000  225.000000   48.000000     2.489187e+09   \n",
       "75%     767.000000   65.000000  249.500000   54.250000     3.390623e+09   \n",
       "max    1396.000000   87.000000  363.000000   98.000000     7.026981e+09   \n",
       "\n",
       "          2005_Guest      2005_PPA  2006_TotalSales     2006_Guest  \\\n",
       "count     104.000000    104.000000     1.040000e+02     104.000000   \n",
       "mean   133044.509615   9970.105769     2.163222e+09  137181.903846   \n",
       "std    113983.584822   7341.940249     1.275126e+09   82332.516729   \n",
       "min         0.000000      0.000000     0.000000e+00       0.000000   \n",
       "25%         0.000000      0.000000     1.626732e+09  101649.500000   \n",
       "50%    164437.000000  14778.500000     2.410287e+09  150825.000000   \n",
       "75%    224398.250000  15346.000000     2.957711e+09  188589.500000   \n",
       "max    494061.000000  19338.000000     6.643585e+09  458853.000000   \n",
       "\n",
       "           2006_PPA  ...  2009_TotalSales     2009_Guest      2009_PPA  \\\n",
       "count    104.000000  ...     1.040000e+02     104.000000    104.000000   \n",
       "mean   13088.586538  ...     2.444952e+09  136935.817308  17864.403846   \n",
       "std     6101.518333  ...     7.893314e+08   44482.386015    826.488554   \n",
       "min        0.000000  ...     5.359169e+08   28311.000000  15859.000000   \n",
       "25%    14459.500000  ...     1.944136e+09  110327.500000  17388.000000   \n",
       "50%    15710.000000  ...     2.399559e+09  127589.500000  17858.500000   \n",
       "75%    16272.250000  ...     2.940020e+09  161311.750000  18349.000000   \n",
       "max    21525.000000  ...     5.786136e+09  340776.000000  21353.000000   \n",
       "\n",
       "        EBITDA_2005   EBITDA_2006   EBITDA_2007   EBITDA_2008   EBITDA_2009  \\\n",
       "count  1.040000e+02  1.040000e+02  1.040000e+02  1.040000e+02  1.040000e+02   \n",
       "mean   4.127306e+08  4.330785e+08  4.368311e+08  4.227222e+08  4.942397e+08   \n",
       "std    3.765223e+08  2.892901e+08  2.837841e+08  2.592758e+08  2.701056e+08   \n",
       "min    0.000000e+00 -2.310617e+07 -8.292295e+07 -1.199075e+08 -1.574721e+08   \n",
       "25%    0.000000e+00  2.584828e+08  2.801708e+08  2.883405e+08  3.198242e+08   \n",
       "50%    4.672030e+08  4.741297e+08  4.131860e+08  3.914768e+08  4.407320e+08   \n",
       "75%    7.092982e+08  6.035643e+08  6.284929e+08  5.692930e+08  6.660611e+08   \n",
       "max    1.902721e+09  1.683910e+09  1.698232e+09  1.576426e+09  1.511726e+09   \n",
       "\n",
       "                x           y  \n",
       "count  104.000000  104.000000  \n",
       "mean   127.383510   36.941392  \n",
       "std      0.806715    0.962966  \n",
       "min    126.622690   33.424280  \n",
       "25%    126.921183   36.354640  \n",
       "50%    127.028230   37.484005  \n",
       "75%    127.230478   37.549520  \n",
       "max    129.404020   37.889830  \n",
       "\n",
       "[8 rows x 26 columns]"
      ]
     },
     "execution_count": 1345,
     "metadata": {},
     "output_type": "execute_result"
    }
   ],
   "source": [
    "concat_data.describe()"
   ]
  },
  {
   "cell_type": "code",
   "execution_count": 1346,
   "id": "e6a468b2",
   "metadata": {},
   "outputs": [
    {
     "data": {
      "text/html": [
       "<div>\n",
       "<style scoped>\n",
       "    .dataframe tbody tr th:only-of-type {\n",
       "        vertical-align: middle;\n",
       "    }\n",
       "\n",
       "    .dataframe tbody tr th {\n",
       "        vertical-align: top;\n",
       "    }\n",
       "\n",
       "    .dataframe thead th {\n",
       "        text-align: right;\n",
       "    }\n",
       "</style>\n",
       "<table border=\"1\" class=\"dataframe\">\n",
       "  <thead>\n",
       "    <tr style=\"text-align: right;\">\n",
       "      <th></th>\n",
       "      <th>코드</th>\n",
       "      <th>국문</th>\n",
       "      <th>영문</th>\n",
       "      <th>Region</th>\n",
       "      <th>City</th>\n",
       "      <th>Type</th>\n",
       "      <th>Floor</th>\n",
       "      <th>OperatingHours</th>\n",
       "    </tr>\n",
       "  </thead>\n",
       "  <tbody>\n",
       "    <tr>\n",
       "      <th>0</th>\n",
       "      <td>KO01</td>\n",
       "      <td>공항점</td>\n",
       "      <td>Airport</td>\n",
       "      <td>Seoul</td>\n",
       "      <td>Seoul</td>\n",
       "      <td>F.S</td>\n",
       "      <td>F2 + F3</td>\n",
       "      <td>11:30~22:00</td>\n",
       "    </tr>\n",
       "    <tr>\n",
       "      <th>1</th>\n",
       "      <td>KO02</td>\n",
       "      <td>강남점</td>\n",
       "      <td>Kangnam</td>\n",
       "      <td>Seoul</td>\n",
       "      <td>Seoul</td>\n",
       "      <td>F.S</td>\n",
       "      <td>F2 + F3</td>\n",
       "      <td>11:30~22:00</td>\n",
       "    </tr>\n",
       "    <tr>\n",
       "      <th>2</th>\n",
       "      <td>KO03</td>\n",
       "      <td>홍대점</td>\n",
       "      <td>Hongdae</td>\n",
       "      <td>Seoul</td>\n",
       "      <td>Seoul</td>\n",
       "      <td>I.L</td>\n",
       "      <td>F1</td>\n",
       "      <td>11:30~22:00</td>\n",
       "    </tr>\n",
       "    <tr>\n",
       "      <th>3</th>\n",
       "      <td>KO04</td>\n",
       "      <td>청담점</td>\n",
       "      <td>Chongdam</td>\n",
       "      <td>Seoul</td>\n",
       "      <td>Seoul</td>\n",
       "      <td>I.L</td>\n",
       "      <td>B1 + F1</td>\n",
       "      <td>11:30~22:00</td>\n",
       "    </tr>\n",
       "    <tr>\n",
       "      <th>4</th>\n",
       "      <td>KO05</td>\n",
       "      <td>삼성점</td>\n",
       "      <td>Samsung</td>\n",
       "      <td>Seoul</td>\n",
       "      <td>Seoul</td>\n",
       "      <td>F.S</td>\n",
       "      <td>F2 + F3</td>\n",
       "      <td>11:30~22:00</td>\n",
       "    </tr>\n",
       "    <tr>\n",
       "      <th>...</th>\n",
       "      <td>...</td>\n",
       "      <td>...</td>\n",
       "      <td>...</td>\n",
       "      <td>...</td>\n",
       "      <td>...</td>\n",
       "      <td>...</td>\n",
       "      <td>...</td>\n",
       "      <td>...</td>\n",
       "    </tr>\n",
       "    <tr>\n",
       "      <th>99</th>\n",
       "      <td>KO102</td>\n",
       "      <td>n종로점</td>\n",
       "      <td>n Chongno</td>\n",
       "      <td>Seoul</td>\n",
       "      <td>Seoul</td>\n",
       "      <td>I.L</td>\n",
       "      <td>B2 + B1</td>\n",
       "      <td>11:30~22:00</td>\n",
       "    </tr>\n",
       "    <tr>\n",
       "      <th>100</th>\n",
       "      <td>KO103</td>\n",
       "      <td>n천호점</td>\n",
       "      <td>n Chonho</td>\n",
       "      <td>Seoul</td>\n",
       "      <td>Seoul</td>\n",
       "      <td>I.L</td>\n",
       "      <td>B1</td>\n",
       "      <td>11:30~22:00</td>\n",
       "    </tr>\n",
       "    <tr>\n",
       "      <th>101</th>\n",
       "      <td>KO104</td>\n",
       "      <td>제주점</td>\n",
       "      <td>Jeju</td>\n",
       "      <td>Jeju</td>\n",
       "      <td>Jeju</td>\n",
       "      <td>I.L</td>\n",
       "      <td>F2</td>\n",
       "      <td>11:30~22:00</td>\n",
       "    </tr>\n",
       "    <tr>\n",
       "      <th>102</th>\n",
       "      <td>KO105</td>\n",
       "      <td>n여의도점</td>\n",
       "      <td>nYeouido</td>\n",
       "      <td>Seoul</td>\n",
       "      <td>Seoul</td>\n",
       "      <td>I.L</td>\n",
       "      <td>B1</td>\n",
       "      <td>11:30~22:00</td>\n",
       "    </tr>\n",
       "    <tr>\n",
       "      <th>103</th>\n",
       "      <td>KO107</td>\n",
       "      <td>n홍대점</td>\n",
       "      <td>nHongdae</td>\n",
       "      <td>Seoul</td>\n",
       "      <td>Seoul</td>\n",
       "      <td>I.L</td>\n",
       "      <td>F2 + F3</td>\n",
       "      <td>11:30~22:00</td>\n",
       "    </tr>\n",
       "  </tbody>\n",
       "</table>\n",
       "<p>104 rows × 8 columns</p>\n",
       "</div>"
      ],
      "text/plain": [
       "        코드     국문         영문 Region   City Type    Floor OperatingHours\n",
       "0     KO01    공항점    Airport  Seoul  Seoul  F.S  F2 + F3    11:30~22:00\n",
       "1     KO02    강남점    Kangnam  Seoul  Seoul  F.S  F2 + F3    11:30~22:00\n",
       "2     KO03    홍대점    Hongdae  Seoul  Seoul  I.L       F1    11:30~22:00\n",
       "3     KO04    청담점   Chongdam  Seoul  Seoul  I.L  B1 + F1    11:30~22:00\n",
       "4     KO05    삼성점    Samsung  Seoul  Seoul  F.S  F2 + F3    11:30~22:00\n",
       "..     ...    ...        ...    ...    ...  ...      ...            ...\n",
       "99   KO102   n종로점  n Chongno  Seoul  Seoul  I.L  B2 + B1    11:30~22:00\n",
       "100  KO103   n천호점   n Chonho  Seoul  Seoul  I.L       B1    11:30~22:00\n",
       "101  KO104    제주점       Jeju   Jeju   Jeju  I.L       F2    11:30~22:00\n",
       "102  KO105  n여의도점   nYeouido  Seoul  Seoul  I.L       B1    11:30~22:00\n",
       "103  KO107   n홍대점   nHongdae  Seoul  Seoul  I.L  F2 + F3    11:30~22:00\n",
       "\n",
       "[104 rows x 8 columns]"
      ]
     },
     "execution_count": 1346,
     "metadata": {},
     "output_type": "execute_result"
    }
   ],
   "source": [
    "concat_data.select_dtypes('object')"
   ]
  },
  {
   "cell_type": "code",
   "execution_count": 1347,
   "id": "4196aca8",
   "metadata": {},
   "outputs": [],
   "source": [
    "col = ['코드', '영문', 'City', 'OperatingHours']\n",
    "concat_data.drop(columns=col, inplace=True)"
   ]
  },
  {
   "cell_type": "code",
   "execution_count": 1348,
   "id": "dc5af87a",
   "metadata": {},
   "outputs": [
    {
     "data": {
      "text/plain": [
       "국문        104\n",
       "Region     16\n",
       "Type        2\n",
       "Floor      13\n",
       "dtype: int64"
      ]
     },
     "execution_count": 1348,
     "metadata": {},
     "output_type": "execute_result"
    }
   ],
   "source": [
    "concat_data.select_dtypes('object').nunique()"
   ]
  },
  {
   "cell_type": "code",
   "execution_count": 1349,
   "id": "edf52c99",
   "metadata": {},
   "outputs": [],
   "source": [
    "concat_data['Type'] = concat_data['Type'].map({'F.S':1, 'I.L':2})"
   ]
  },
  {
   "cell_type": "code",
   "execution_count": 1350,
   "id": "94dbca92",
   "metadata": {},
   "outputs": [],
   "source": [
    "len_floor = []\n",
    "\n",
    "for i in concat_data['Floor'].str.split('+'):\n",
    "    len_floor.append(len(i))\n",
    "concat_data['Floor'] = len_floor"
   ]
  },
  {
   "cell_type": "code",
   "execution_count": 1351,
   "id": "cb7fb3cc",
   "metadata": {},
   "outputs": [
    {
     "data": {
      "text/plain": [
       "0      Seoul\n",
       "1      Seoul\n",
       "2      Seoul\n",
       "3      Seoul\n",
       "4      Seoul\n",
       "       ...  \n",
       "99     Seoul\n",
       "100    Seoul\n",
       "101     Jeju\n",
       "102    Seoul\n",
       "103    Seoul\n",
       "Name: Region, Length: 104, dtype: object"
      ]
     },
     "execution_count": 1351,
     "metadata": {},
     "output_type": "execute_result"
    }
   ],
   "source": [
    "concat_data['Region']"
   ]
  },
  {
   "cell_type": "code",
   "execution_count": 1352,
   "id": "fa7447c1",
   "metadata": {},
   "outputs": [],
   "source": [
    "from sklearn.preprocessing import LabelEncoder\n",
    "\n",
    "label_encoder = LabelEncoder()\n",
    "concat_data['Region'] = label_encoder.fit_transform(concat_data['Region'])"
   ]
  },
  {
   "cell_type": "code",
   "execution_count": null,
   "id": "94dddaea",
   "metadata": {},
   "outputs": [],
   "source": []
  },
  {
   "cell_type": "markdown",
   "id": "ec422255",
   "metadata": {},
   "source": [
    "# Cluster"
   ]
  },
  {
   "cell_type": "code",
   "execution_count": 1353,
   "id": "76a44604",
   "metadata": {},
   "outputs": [],
   "source": [
    "cluster = concat_data.iloc[:, -2:]"
   ]
  },
  {
   "cell_type": "code",
   "execution_count": 1354,
   "id": "7bdf0922",
   "metadata": {},
   "outputs": [],
   "source": [
    "# K-means 활용하여 군집화\n",
    "\n",
    "from sklearn.cluster import KMeans\n",
    "from sklearn.metrics import silhouette_score\n",
    "\n",
    "wss = []\n",
    "sis = []\n",
    "for k in range(2,10):\n",
    "    kmeans = KMeans(n_clusters=k, n_init=10, random_state=0)\n",
    "    kmeans.fit(cluster)\n",
    "    wss = np.append(wss, kmeans.inertia_)"
   ]
  },
  {
   "cell_type": "code",
   "execution_count": 1355,
   "id": "1dff72ab",
   "metadata": {},
   "outputs": [
    {
     "data": {
      "image/png": "[encoded data removed]",
      "text/plain": [
       "<Figure size 640x480 with 1 Axes>"
      ]
     },
     "metadata": {},
     "output_type": "display_data"
    }
   ],
   "source": [
    "fig, ax = plt.subplots()\n",
    "line = ax.plot(np.arange(2,10), wss, 'go--', label='SSE')\n",
    "ax.set_ylim(wss.min(), wss.max())\n",
    "ax.set_xlabel('군집 수')\n",
    "ax.set_ylabel('SSE')\n",
    "labels = [l.get_label() for l in line]\n",
    "plt.legend(line, labels)\n",
    "plt.show()\n",
    "\n",
    "# 최적의 군집 수 3 확인"
   ]
  },
  {
   "cell_type": "code",
   "execution_count": 1356,
   "id": "1243d46d",
   "metadata": {},
   "outputs": [
    {
     "data": {
      "image/png": "[encoded data removed]",
      "text/plain": [
       "<Figure size 640x480 with 1 Axes>"
      ]
     },
     "metadata": {},
     "output_type": "display_data"
    }
   ],
   "source": [
    "## 실루엣 점수 계산 그래프 그리기\n",
    "silhouette_score_collection = np.zeros(15)\n",
    "for i in range(2,15) :\n",
    "    silhouette_kmeans = KMeans(n_clusters= i, n_init=10)\n",
    "    y_pred = silhouette_kmeans.fit_predict(cluster)\n",
    "    silhouette_kmeans.labels_\n",
    "    silhouette_score_collection[i] = silhouette_score(cluster, silhouette_kmeans.labels_)\n",
    "silhouette_score_collection\n",
    "\n",
    "silhouette_score_graph = pd.DataFrame(silhouette_score_collection)\n",
    "plt.plot(silhouette_score_graph, marker = 'o')\n",
    "plt.title(\"silhouette score graph\")\n",
    "plt.ylabel(\"silhouette_score\")\n",
    "plt.xlabel(\"k\")\n",
    "plt.savefig('silhouette_score.png')\n",
    "plt.show()"
   ]
  },
  {
   "cell_type": "code",
   "execution_count": 1357,
   "id": "358e9973",
   "metadata": {},
   "outputs": [
    {
     "name": "stdout",
     "output_type": "stream",
     "text": [
      "[0 0 0 0 0 0 0 1 0 1 1 1 0 1 0 0 0 0 0 1 0 0 0 0 0 0 2 1 0 0 0 0 0 1 2 0 0\n",
      " 0 0 0 0 0 0 2 1 0 0 0 0 1 0 0 0 0 0 0 0 1 0 0 0 0 0 0 0 0 0 2 0 0 0 0 0 0\n",
      " 1 0 0 0 1 0 0 1 0 0 0 1 1 1 1 0 0 0 0 0 1 0 0 1 0 0 0 2 0 0]\n"
     ]
    }
   ],
   "source": [
    "# K-means 클러스터링 수행\n",
    "kmeans = KMeans(n_clusters=3, n_init=10).fit(cluster)\n",
    "\n",
    "# 클러스터 할당 결과 출력\n",
    "labels = kmeans.labels_\n",
    "print(labels)"
   ]
  },
  {
   "cell_type": "code",
   "execution_count": 1358,
   "id": "47d283df",
   "metadata": {},
   "outputs": [
    {
     "data": {
      "image/png": "[encoded data removed]",
      "text/plain": [
       "<Figure size 640x480 with 1 Axes>"
      ]
     },
     "metadata": {},
     "output_type": "display_data"
    }
   ],
   "source": [
    "plt.scatter(concat_data['x'], concat_data['y'], c=labels)\n",
    "plt.xlabel('x')\n",
    "plt.ylabel('y')\n",
    "plt.title('K-means Clustering')\n",
    "plt.show()"
   ]
  },
  {
   "cell_type": "code",
   "execution_count": 1359,
   "id": "93eef814",
   "metadata": {},
   "outputs": [],
   "source": [
    "concat_data['clust'] = labels"
   ]
  },
  {
   "cell_type": "code",
   "execution_count": 1360,
   "id": "497b79cd",
   "metadata": {},
   "outputs": [
    {
     "data": {
      "image/png": "[encoded data removed]",
      "text/plain": [
       "<Figure size 700x700 with 1 Axes>"
      ]
     },
     "metadata": {},
     "output_type": "display_data"
    }
   ],
   "source": [
    "plt.figure(figsize=(6,6))\n",
    "concat_data.clust.value_counts().plot.pie(autopct='%.2f%%', figsize=(7,7),\n",
    "                                startangle=30, legend=False)\n",
    "plt.title('군집 비율')\n",
    "plt.axis('equal')\n",
    "plt.savefig('군집 비율')\n",
    "plt.show()"
   ]
  },
  {
   "cell_type": "code",
   "execution_count": 1361,
   "id": "369f75ff",
   "metadata": {},
   "outputs": [],
   "source": [
    "concat_data.drop(columns=['x', 'y'], inplace=True)\n",
    "concat_data.insert(9, 'cluster', concat_data['clust'])\n",
    "concat_data.drop(columns=['clust'], inplace=True)"
   ]
  },
  {
   "cell_type": "code",
   "execution_count": 1362,
   "id": "2d3f7e7c",
   "metadata": {},
   "outputs": [],
   "source": [
    "year = concat_data['OpeningDate'].dt.year\n",
    "month = concat_data['OpeningDate'].dt.month\n",
    "\n",
    "concat_data.insert(7, 'year', year)\n",
    "concat_data.insert(8, 'month', month)\n",
    "concat_data.drop(columns=['OpeningDate'], inplace=True)"
   ]
  },
  {
   "cell_type": "code",
   "execution_count": null,
   "id": "43e8b90e",
   "metadata": {},
   "outputs": [],
   "source": []
  },
  {
   "cell_type": "code",
   "execution_count": 1363,
   "id": "4302071c",
   "metadata": {},
   "outputs": [],
   "source": [
    "change_col = list(concat_data.columns[11:])\n",
    "\n",
    "for i in range(len(concat_data)):\n",
    "    i_year = concat_data.iloc[i]['year']\n",
    "    i_month = concat_data.iloc[i]['month']\n",
    "    \n",
    "    div_12 = [col for col in change_col if str(i_year) not in col]  # 해당 연도 제외\n",
    "    for col in div_12:\n",
    "        concat_data.at[i, col] = int(concat_data.at[i, col] / 12)\n",
    "        \n",
    "    div_month = [col for col in change_col if str(i_year) in col]\n",
    "    for col in div_month:\n",
    "        concat_data.at[i, col] = int(concat_data.at[i, col] / (13 - i_month))\n"
   ]
  },
  {
   "cell_type": "code",
   "execution_count": null,
   "id": "99a36edd",
   "metadata": {},
   "outputs": [],
   "source": []
  },
  {
   "cell_type": "markdown",
   "id": "ff207591",
   "metadata": {},
   "source": [
    "# Analyze"
   ]
  },
  {
   "cell_type": "code",
   "execution_count": 1364,
   "id": "ccbfdc08",
   "metadata": {},
   "outputs": [],
   "source": [
    "org_data = concat_data.iloc[:,:11]\n",
    "target_data = concat_data.iloc[:,-1]\n",
    "analyze_data = pd.concat([org_data, target_data], axis=1)\n",
    "analyze_data = analyze_data.set_index('국문')"
   ]
  },
  {
   "cell_type": "code",
   "execution_count": 1365,
   "id": "59301bad",
   "metadata": {},
   "outputs": [
    {
     "name": "stdout",
     "output_type": "stream",
     "text": [
      "                            OLS Regression Results                            \n",
      "==============================================================================\n",
      "Dep. Variable:            EBITDA_2009   R-squared:                       0.657\n",
      "Model:                            OLS   Adj. R-squared:                  0.620\n",
      "Method:                 Least Squares   F-statistic:                     17.83\n",
      "Date:                Fri, 23 Feb 2024   Prob (F-statistic):           1.12e-17\n",
      "Time:                        23:20:23   Log-Likelihood:                -1851.5\n",
      "No. Observations:                 104   AIC:                             3725.\n",
      "Df Residuals:                      93   BIC:                             3754.\n",
      "Df Model:                          10                                         \n",
      "Covariance Type:            nonrobust                                         \n",
      "==============================================================================\n",
      "                 coef    std err          t      P>|t|      [0.025      0.975]\n",
      "------------------------------------------------------------------------------\n",
      "const      -9.824e+08   1.34e+09     -0.732      0.466   -3.65e+09    1.68e+09\n",
      "Region     -1.477e+05    3.8e+05     -0.388      0.699   -9.03e+05    6.08e+05\n",
      "Type        1.868e+05   4.42e+06      0.042      0.966   -8.59e+06    8.97e+06\n",
      "Floor      -5.835e+06   2.52e+06     -2.317      0.023   -1.08e+07   -8.35e+05\n",
      "Size(㎡)     7425.9486   1.49e+04      0.500      0.618   -2.21e+04    3.69e+04\n",
      "No.Table   -8.029e+05   3.18e+05     -2.527      0.013   -1.43e+06   -1.72e+05\n",
      "No.Seat     2.634e+05   9.94e+04      2.651      0.009    6.61e+04    4.61e+05\n",
      "year        4.768e+05   6.69e+05      0.713      0.478   -8.51e+05     1.8e+06\n",
      "month      -7.349e+05   4.76e+05     -1.544      0.126   -1.68e+06     2.1e+05\n",
      "No.Staffs   1.288e+06   1.37e+05      9.434      0.000    1.02e+06    1.56e+06\n",
      "cluster     3.531e+06   3.24e+06      1.090      0.279    -2.9e+06    9.96e+06\n",
      "==============================================================================\n",
      "Omnibus:                        6.372   Durbin-Watson:                   2.084\n",
      "Prob(Omnibus):                  0.041   Jarque-Bera (JB):               10.587\n",
      "Skew:                          -0.073   Prob(JB):                      0.00502\n",
      "Kurtosis:                       4.556   Cond. No.                     2.12e+06\n",
      "==============================================================================\n",
      "\n",
      "Notes:\n",
      "[1] Standard Errors assume that the covariance matrix of the errors is correctly specified.\n",
      "[2] The condition number is large, 2.12e+06. This might indicate that there are\n",
      "strong multicollinearity or other numerical problems.\n"
     ]
    }
   ],
   "source": [
    "import statsmodels.api as sm\n",
    "\n",
    "# 종속 변수 및 설명 변수 선택\n",
    "dependent_variable = 'EBITDA_2009'\n",
    "independent_variables = analyze_data.columns[analyze_data.columns != dependent_variable]\n",
    "\n",
    "# 독립변수 행렬 및 종속변수 배열 생성\n",
    "X = analyze_data[independent_variables]\n",
    "y = analyze_data[dependent_variable]\n",
    "\n",
    "# 상수항 추가\n",
    "X = sm.add_constant(X)\n",
    "\n",
    "# 다중 회귀 모델 적합\n",
    "model = sm.OLS(y, X).fit()\n",
    "\n",
    "# 회귀분석 결과 출력\n",
    "print(model.summary())\n"
   ]
  },
  {
   "cell_type": "code",
   "execution_count": null,
   "id": "50a267cf",
   "metadata": {},
   "outputs": [],
   "source": []
  },
  {
   "cell_type": "code",
   "execution_count": 1366,
   "id": "e9cc9beb",
   "metadata": {},
   "outputs": [],
   "source": [
    "pvalue_col = ['No.Table', 'No.Seat', 'No.Staffs']\n",
    "final_clust_data = analyze_data[pvalue_col]"
   ]
  },
  {
   "cell_type": "code",
   "execution_count": 1367,
   "id": "a8fa746c",
   "metadata": {},
   "outputs": [],
   "source": [
    "from sklearn.preprocessing import MinMaxScaler\n",
    "scaler = MinMaxScaler()\n",
    "\n",
    "# 각 열을 0에서 1로 스케일링\n",
    "final_clust_data_scale = pd.DataFrame(scaler.fit_transform(final_clust_data), columns=final_clust_data.columns)"
   ]
  },
  {
   "cell_type": "code",
   "execution_count": 1368,
   "id": "8328596f",
   "metadata": {},
   "outputs": [
    {
     "data": {
      "image/png": "[encoded data removed]",
      "text/plain": [
       "<Figure size 640x480 with 1 Axes>"
      ]
     },
     "metadata": {},
     "output_type": "display_data"
    }
   ],
   "source": [
    "from scipy.cluster.hierarchy import linkage, dendrogram\n",
    "\n",
    "# 계층적 군집화를 위한 linkage matrix 생성\n",
    "linkage_matrix = linkage(final_clust_data_scale, method='ward')\n",
    "\n",
    "# 시각화를 위한 덴드로그램 생성\n",
    "dendrogram(linkage_matrix, leaf_rotation=90, leaf_font_size=0, show_leaf_counts=False, no_labels=True)\n",
    "\n",
    "# 플롯 설정\n",
    "plt.title('Hierarchical Clustering Dendrogram')\n",
    "# plt.xlabel('Data Points')\n",
    "plt.ylabel('Distance')\n",
    "\n",
    "\n",
    "# 덴드로그램 출력\n",
    "plt.show()"
   ]
  },
  {
   "cell_type": "code",
   "execution_count": 1369,
   "id": "3d02aefd",
   "metadata": {},
   "outputs": [],
   "source": [
    "from scipy.cluster.hierarchy import fcluster\n",
    "\n",
    "# 덴드로그램으로부터 군집 개수를 결정\n",
    "num_clusters = 4\n",
    "\n",
    "# 덴드로그램으로부터 각 데이터 포인트의 군집 할당\n",
    "hierarchy_cluster_labels = fcluster(linkage_matrix, num_clusters, criterion='maxclust')\n",
    "\n",
    "# 군집 할당 결과를 데이터프레임에 추가\n",
    "final_clust_data_scale['Cluster'] = hierarchy_cluster_labels"
   ]
  },
  {
   "cell_type": "code",
   "execution_count": null,
   "id": "bb571792",
   "metadata": {},
   "outputs": [],
   "source": []
  },
  {
   "cell_type": "markdown",
   "id": "b921c58f",
   "metadata": {},
   "source": [
    "# prediction"
   ]
  },
  {
   "cell_type": "code",
   "execution_count": 1370,
   "id": "abb1889c",
   "metadata": {},
   "outputs": [],
   "source": [
    "TotalSales_col = [i for i in concat_data.columns if 'Total' in i]\n",
    "final = concat_data[TotalSales_col]\n",
    "final = final.copy()"
   ]
  },
  {
   "cell_type": "code",
   "execution_count": null,
   "id": "78b859ad",
   "metadata": {},
   "outputs": [],
   "source": []
  },
  {
   "cell_type": "code",
   "execution_count": 1371,
   "id": "7246de44",
   "metadata": {},
   "outputs": [],
   "source": [
    "final['2005_2006_Change'] = final['2006_TotalSales'] - final['2005_TotalSales']\n",
    "final['2006_2007_Change'] = final['2007_TotalSales'] - final['2006_TotalSales']\n",
    "final['2007_2008_Change'] = final['2008_TotalSales'] - final['2007_TotalSales']\n",
    "final['2008_2009_Change'] = final['2009_TotalSales'] - final['2008_TotalSales']"
   ]
  },
  {
   "cell_type": "code",
   "execution_count": 1372,
   "id": "6a75149f",
   "metadata": {},
   "outputs": [],
   "source": [
    "final.loc[final['2005_TotalSales'] == 0, '2005_2006_Change'] = 0\n",
    "final.loc[final['2006_TotalSales'] == 0, '2006_2007_Change'] = 0\n",
    "final.loc[final['2007_TotalSales'] == 0, '2007_2008_Change'] = 0\n",
    "final.loc[final['2008_TotalSales'] == 0, '2008_2009_Change'] = 0"
   ]
  },
  {
   "cell_type": "code",
   "execution_count": 1373,
   "id": "adb31eb2",
   "metadata": {},
   "outputs": [],
   "source": [
    "result = final.iloc[:,5:]\n",
    "# result['price'] = final['2009_TotalSales']\n",
    "result['cluster'] = final_clust_data_scale['Cluster']"
   ]
  },
  {
   "cell_type": "code",
   "execution_count": 1374,
   "id": "c8c0166c",
   "metadata": {},
   "outputs": [
    {
     "data": {
      "text/plain": [
       "{1: -9963733.4,\n",
       " 3: -7671434.511764705,\n",
       " 2: -10062076.686956521,\n",
       " 4: -10914772.533333331}"
      ]
     },
     "execution_count": 1374,
     "metadata": {},
     "output_type": "execute_result"
    }
   ],
   "source": [
    "dic = {}\n",
    "for i in result['cluster'].unique():\n",
    "    cluster_value = result[result['cluster'] == i].mean().mean()\n",
    "    dic[i] = cluster_value\n",
    "dic"
   ]
  },
  {
   "cell_type": "code",
   "execution_count": 1375,
   "id": "6c838199",
   "metadata": {},
   "outputs": [],
   "source": [
    "last = pd.concat([final['2009_TotalSales'], result['cluster']], axis=1)"
   ]
  },
  {
   "cell_type": "code",
   "execution_count": 1376,
   "id": "a65bc6c9",
   "metadata": {},
   "outputs": [],
   "source": [
    "change = []\n",
    "for i in last['cluster']:\n",
    "    change.append(dic[i])\n",
    "last['change'] = change\n",
    "last.drop(columns='cluster', inplace=True)"
   ]
  },
  {
   "cell_type": "code",
   "execution_count": 1377,
   "id": "60f0a00c",
   "metadata": {},
   "outputs": [],
   "source": [
    "last['2009'] = last['2009_TotalSales'] * 12\n",
    "last.drop(columns=['2009_TotalSales'], inplace=True)"
   ]
  },
  {
   "cell_type": "code",
   "execution_count": 1391,
   "id": "daf979be",
   "metadata": {},
   "outputs": [
    {
     "name": "stdout",
     "output_type": "stream",
     "text": [
      "2020년 매출액 : 267,387,060,807\n"
     ]
    }
   ],
   "source": [
    "answer = int((last['2009'] - last['change'] * 11).sum())\n",
    "formatted_answer = format(answer, ',')\n",
    "print(f\"2020년 매출액 : {formatted_answer}\")"
   ]
  }
 ],
 "metadata": {
  "kernelspec": {
   "display_name": "ves1",
   "language": "python",
   "name": "ves1"
  },
  "language_info": {
   "codemirror_mode": {
    "name": "ipython",
    "version": 3
   },
   "file_extension": ".py",
   "mimetype": "text/x-python",
   "name": "python",
   "nbconvert_exporter": "python",
   "pygments_lexer": "ipython3",
   "version": "3.8.16"
  }
 },
 "nbformat": 4,
 "nbformat_minor": 5
}
